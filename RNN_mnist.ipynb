{
 "cells": [
  {
   "cell_type": "markdown",
   "metadata": {},
   "source": [
    "# Recurrent Neural Networks(RNN)\n",
    "\n",
    "In Deep Neural Networks, at each layer input is multiplied by a weight, a biased value is added and the result is passed through a activation function which gives an output which goes as an input to the next layer.\n",
    "\n",
    "Coming to RNN's, current input is feeded and the hidden state is calculated followed by generating the output, at the next step the previous hidden state to calculate current hidden state with the current input.\n"
   ]
  },
  {
   "cell_type": "code",
   "execution_count": 1,
   "metadata": {},
   "outputs": [
    {
     "name": "stderr",
     "output_type": "stream",
     "text": [
      "Using TensorFlow backend.\n"
     ]
    }
   ],
   "source": [
    "#import necessary libraries\n",
    "import matplotlib.pyplot as plt\n",
    "import tensorflow as tf\n",
    "import keras\n"
   ]
  },
  {
   "cell_type": "code",
   "execution_count": 2,
   "metadata": {},
   "outputs": [],
   "source": [
    "#Mnist dataset\n",
    "mnist_data = keras.datasets.mnist"
   ]
  },
  {
   "cell_type": "code",
   "execution_count": 3,
   "metadata": {},
   "outputs": [],
   "source": [
    "from keras.models import Sequential\n",
    "from keras.layers import Dense, Activation, Flatten\n",
    "from keras.layers.recurrent import LSTM, SimpleRNN"
   ]
  },
  {
   "cell_type": "code",
   "execution_count": 43,
   "metadata": {},
   "outputs": [],
   "source": [
    "#Load the data from dataset\n",
    "(xtrain, ytrain), (xtest, ytest) = mnist_data.load_data()"
   ]
  },
  {
   "cell_type": "code",
   "execution_count": 44,
   "metadata": {},
   "outputs": [],
   "source": [
    "#Normalizing values\n",
    "#xtrain = keras.utils.normalize(xtrain, axis=1)\n",
    "#xtest = keras.utils.normalize(xtest, axis=1)\n",
    "xtrain = xtrain.astype('float32')\n",
    "xtest = xtest.astype('float32')\n",
    "xtrain /= 255\n",
    "xtest /= 255"
   ]
  },
  {
   "cell_type": "code",
   "execution_count": 45,
   "metadata": {},
   "outputs": [
    {
     "name": "stdout",
     "output_type": "stream",
     "text": [
      "(60000, 28, 28)\n",
      "(60000,)\n",
      "(10000, 28, 28)\n",
      "(10000,)\n"
     ]
    }
   ],
   "source": [
    "print(xtrain.shape)\n",
    "print(ytrain.shape)\n",
    "print(xtest.shape)\n",
    "print(ytest.shape)"
   ]
  },
  {
   "cell_type": "code",
   "execution_count": 46,
   "metadata": {},
   "outputs": [
    {
     "data": {
      "text/plain": [
       "(28, 28)"
      ]
     },
     "execution_count": 46,
     "metadata": {},
     "output_type": "execute_result"
    }
   ],
   "source": [
    "xtrain[0].shape"
   ]
  },
  {
   "cell_type": "code",
   "execution_count": 47,
   "metadata": {},
   "outputs": [],
   "source": [
    "rnn_model = Sequential()"
   ]
  },
  {
   "cell_type": "code",
   "execution_count": 48,
   "metadata": {},
   "outputs": [],
   "source": [
    "#rnn_model.add(Flatten())\n",
    "rnn_model.add(SimpleRNN(128,input_shape=xtrain[0].shape))\n",
    "#rnn_model.add(SimpleRNN(128,input_shape=xtrain[0].shape,return_sequences=True))\n",
    "#rnn_model.add(SimpleRNN(128))\n",
    "rnn_model.add(Dense(units=10))\n",
    "rnn_model.add(Activation('softmax'))"
   ]
  },
  {
   "cell_type": "code",
   "execution_count": 49,
   "metadata": {},
   "outputs": [],
   "source": [
    "rnn_model.compile(optimizer='adam', loss='categorical_crossentropy',metrics=['accuracy'])"
   ]
  },
  {
   "cell_type": "code",
   "execution_count": 50,
   "metadata": {},
   "outputs": [],
   "source": [
    "from keras.utils import np_utils\n",
    "#ytrain to be converted to categorical one hot vectors\n",
    "ytrain = np_utils.to_categorical(ytrain, 10)\n",
    "ytest = np_utils.to_categorical(ytest, 10)"
   ]
  },
  {
   "cell_type": "code",
   "execution_count": 57,
   "metadata": {},
   "outputs": [
    {
     "name": "stdout",
     "output_type": "stream",
     "text": [
      "Epoch 1/10\n",
      " - 8s - loss: 0.0719 - acc: 0.9795\n",
      "Epoch 2/10\n",
      " - 9s - loss: 0.0714 - acc: 0.9794\n",
      "Epoch 3/10\n",
      " - 9s - loss: 0.0718 - acc: 0.9792\n",
      "Epoch 4/10\n",
      " - 9s - loss: 0.0698 - acc: 0.9792\n",
      "Epoch 5/10\n",
      " - 8s - loss: 0.0708 - acc: 0.9792\n",
      "Epoch 6/10\n",
      " - 8s - loss: 0.0619 - acc: 0.9819\n",
      "Epoch 7/10\n",
      " - 7s - loss: 0.0648 - acc: 0.9808\n",
      "Epoch 8/10\n",
      " - 7s - loss: 0.0639 - acc: 0.9815\n",
      "Epoch 9/10\n",
      " - 8s - loss: 0.0566 - acc: 0.9839\n",
      "Epoch 10/10\n",
      " - 8s - loss: 0.0632 - acc: 0.9818\n"
     ]
    }
   ],
   "source": [
    "#h = rnn_model.fit(xtrain,ytrain,epochs=5)\n",
    "h = rnn_model.fit(xtrain,ytrain,epochs=10,batch_size=128,verbose=2)"
   ]
  },
  {
   "cell_type": "code",
   "execution_count": 58,
   "metadata": {},
   "outputs": [
    {
     "data": {
      "text/plain": [
       "[0.08387483101002872, 0.9781]"
      ]
     },
     "execution_count": 58,
     "metadata": {},
     "output_type": "execute_result"
    }
   ],
   "source": [
    "rnn_model.evaluate(xtest,ytest,verbose=2)"
   ]
  },
  {
   "cell_type": "code",
   "execution_count": 59,
   "metadata": {},
   "outputs": [
    {
     "name": "stdout",
     "output_type": "stream",
     "text": [
      "10000/10000 [==============================] - 1s 99us/step\n",
      "0.08387483101002872\n",
      "0.9781\n"
     ]
    }
   ],
   "source": [
    "val_loss, val_accuracy = rnn_model.evaluate(xtest,ytest)\n",
    "print(val_loss)\n",
    "print(val_accuracy)"
   ]
  },
  {
   "cell_type": "code",
   "execution_count": 60,
   "metadata": {},
   "outputs": [
    {
     "data": {
      "image/png": "[encoded data removed]",
      "text/plain": [
       "<Figure size 432x288 with 1 Axes>"
      ]
     },
     "metadata": {},
     "output_type": "display_data"
    }
   ],
   "source": [
    "plt.plot(h.epoch,h.history['loss'])\n",
    "plt.title(\"Loss\")\n",
    "plt.show()"
   ]
  },
  {
   "cell_type": "code",
   "execution_count": 62,
   "metadata": {},
   "outputs": [
    {
     "data": {
      "image/png": "[encoded data removed]",
      "text/plain": [
       "<Figure size 432x288 with 1 Axes>"
      ]
     },
     "metadata": {},
     "output_type": "display_data"
    }
   ],
   "source": [
    "plt.plot(h.epoch,h.history['acc'])\n",
    "plt.title(\"Accuracy\")\n",
    "plt.show()"
   ]
  },
  {
   "cell_type": "code",
   "execution_count": null,
   "metadata": {},
   "outputs": [],
   "source": []
  }
 ],
 "metadata": {
  "kernelspec": {
   "display_name": "Python 3",
   "language": "python",
   "name": "python3"
  },
  "language_info": {
   "codemirror_mode": {
    "name": "ipython",
    "version": 3
   },
   "file_extension": ".py",
   "mimetype": "text/x-python",
   "name": "python",
   "nbconvert_exporter": "python",
   "pygments_lexer": "ipython3",
   "version": "3.6.4"
  }
 },
 "nbformat": 4,
 "nbformat_minor": 2
}
